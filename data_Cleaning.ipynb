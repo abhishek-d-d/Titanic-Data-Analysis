{
 "cells": [
  {
   "cell_type": "markdown",
   "id": "eb4f059e",
   "metadata": {},
   "source": [
    "#  #  Titanic Data Analysis"
   ]
  },
  {
   "cell_type": "markdown",
   "id": "d87013ec",
   "metadata": {},
   "source": [
    " // TASK LIST\n"
   ]
  },
  {
   "cell_type": "markdown",
   "id": "85294f28",
   "metadata": {},
   "source": [
    "Task 1 : Perform Data Cleaning"
   ]
  },
  {
   "cell_type": "markdown",
   "id": "940ed394",
   "metadata": {},
   "source": [
    "Task 2 : Calculate summary statistics"
   ]
  },
  {
   "cell_type": "markdown",
   "id": "47de04f6",
   "metadata": {},
   "source": [
    "Task 2 : Visualization using Histogram"
   ]
  },
  {
   "cell_type": "code",
   "execution_count": 1,
   "id": "ab3272d1",
   "metadata": {},
   "outputs": [],
   "source": [
    "# Import important libraries \n",
    "\n",
    "import pandas as pd \n",
    "import numpy as np\n",
    "import seaborn as sns \n",
    "import statistics\n",
    "import seaborn as sns\n",
    "import matplotlib.pyplot as plt\n",
    "%matplotlib inline"
   ]
  },
  {
   "cell_type": "code",
   "execution_count": 2,
   "id": "fbc8857d",
   "metadata": {},
   "outputs": [
    {
     "data": {
      "text/html": [
       "<div>\n",
       "<style scoped>\n",
       "    .dataframe tbody tr th:only-of-type {\n",
       "        vertical-align: middle;\n",
       "    }\n",
       "\n",
       "    .dataframe tbody tr th {\n",
       "        vertical-align: top;\n",
       "    }\n",
       "\n",
       "    .dataframe thead th {\n",
       "        text-align: right;\n",
       "    }\n",
       "</style>\n",
       "<table border=\"1\" class=\"dataframe\">\n",
       "  <thead>\n",
       "    <tr style=\"text-align: right;\">\n",
       "      <th></th>\n",
       "      <th>PassengerId</th>\n",
       "      <th>Survived</th>\n",
       "      <th>Pclass</th>\n",
       "      <th>Name</th>\n",
       "      <th>Sex</th>\n",
       "      <th>Age</th>\n",
       "      <th>SibSp</th>\n",
       "      <th>Parch</th>\n",
       "      <th>Ticket</th>\n",
       "      <th>Fare</th>\n",
       "      <th>Cabin</th>\n",
       "      <th>Embarked</th>\n",
       "    </tr>\n",
       "  </thead>\n",
       "  <tbody>\n",
       "    <tr>\n",
       "      <th>0</th>\n",
       "      <td>1</td>\n",
       "      <td>0</td>\n",
       "      <td>3</td>\n",
       "      <td>Braund, Mr. Owen Harris</td>\n",
       "      <td>male</td>\n",
       "      <td>22.0</td>\n",
       "      <td>1</td>\n",
       "      <td>0</td>\n",
       "      <td>A/5 21171</td>\n",
       "      <td>7.2500</td>\n",
       "      <td>NaN</td>\n",
       "      <td>S</td>\n",
       "    </tr>\n",
       "    <tr>\n",
       "      <th>1</th>\n",
       "      <td>2</td>\n",
       "      <td>1</td>\n",
       "      <td>1</td>\n",
       "      <td>Cumings, Mrs. John Bradley (Florence Briggs Th...</td>\n",
       "      <td>female</td>\n",
       "      <td>38.0</td>\n",
       "      <td>1</td>\n",
       "      <td>0</td>\n",
       "      <td>PC 17599</td>\n",
       "      <td>71.2833</td>\n",
       "      <td>C85</td>\n",
       "      <td>C</td>\n",
       "    </tr>\n",
       "    <tr>\n",
       "      <th>2</th>\n",
       "      <td>3</td>\n",
       "      <td>1</td>\n",
       "      <td>3</td>\n",
       "      <td>Heikkinen, Miss. Laina</td>\n",
       "      <td>female</td>\n",
       "      <td>26.0</td>\n",
       "      <td>0</td>\n",
       "      <td>0</td>\n",
       "      <td>STON/O2. 3101282</td>\n",
       "      <td>7.9250</td>\n",
       "      <td>NaN</td>\n",
       "      <td>S</td>\n",
       "    </tr>\n",
       "    <tr>\n",
       "      <th>3</th>\n",
       "      <td>4</td>\n",
       "      <td>1</td>\n",
       "      <td>1</td>\n",
       "      <td>Futrelle, Mrs. Jacques Heath (Lily May Peel)</td>\n",
       "      <td>female</td>\n",
       "      <td>35.0</td>\n",
       "      <td>1</td>\n",
       "      <td>0</td>\n",
       "      <td>113803</td>\n",
       "      <td>53.1000</td>\n",
       "      <td>C123</td>\n",
       "      <td>S</td>\n",
       "    </tr>\n",
       "    <tr>\n",
       "      <th>4</th>\n",
       "      <td>5</td>\n",
       "      <td>0</td>\n",
       "      <td>3</td>\n",
       "      <td>Allen, Mr. William Henry</td>\n",
       "      <td>male</td>\n",
       "      <td>35.0</td>\n",
       "      <td>0</td>\n",
       "      <td>0</td>\n",
       "      <td>373450</td>\n",
       "      <td>8.0500</td>\n",
       "      <td>NaN</td>\n",
       "      <td>S</td>\n",
       "    </tr>\n",
       "  </tbody>\n",
       "</table>\n",
       "</div>"
      ],
      "text/plain": [
       "   PassengerId  Survived  Pclass  \\\n",
       "0            1         0       3   \n",
       "1            2         1       1   \n",
       "2            3         1       3   \n",
       "3            4         1       1   \n",
       "4            5         0       3   \n",
       "\n",
       "                                                Name     Sex   Age  SibSp  \\\n",
       "0                            Braund, Mr. Owen Harris    male  22.0      1   \n",
       "1  Cumings, Mrs. John Bradley (Florence Briggs Th...  female  38.0      1   \n",
       "2                             Heikkinen, Miss. Laina  female  26.0      0   \n",
       "3       Futrelle, Mrs. Jacques Heath (Lily May Peel)  female  35.0      1   \n",
       "4                           Allen, Mr. William Henry    male  35.0      0   \n",
       "\n",
       "   Parch            Ticket     Fare Cabin Embarked  \n",
       "0      0         A/5 21171   7.2500   NaN        S  \n",
       "1      0          PC 17599  71.2833   C85        C  \n",
       "2      0  STON/O2. 3101282   7.9250   NaN        S  \n",
       "3      0            113803  53.1000  C123        S  \n",
       "4      0            373450   8.0500   NaN        S  "
      ]
     },
     "execution_count": 2,
     "metadata": {},
     "output_type": "execute_result"
    }
   ],
   "source": [
    "data = pd.read_csv(\"titanic_dataset.csv\")\n",
    "data.head()"
   ]
  },
  {
   "cell_type": "code",
   "execution_count": 3,
   "id": "04828e10",
   "metadata": {},
   "outputs": [
    {
     "data": {
      "text/plain": [
       "(891, 12)"
      ]
     },
     "execution_count": 3,
     "metadata": {},
     "output_type": "execute_result"
    }
   ],
   "source": [
    "data.shape"
   ]
  },
  {
   "cell_type": "code",
   "execution_count": 4,
   "id": "cb8f21b3",
   "metadata": {
    "scrolled": true
   },
   "outputs": [
    {
     "name": "stdout",
     "output_type": "stream",
     "text": [
      "<class 'pandas.core.frame.DataFrame'>\n",
      "RangeIndex: 891 entries, 0 to 890\n",
      "Data columns (total 12 columns):\n",
      " #   Column       Non-Null Count  Dtype  \n",
      "---  ------       --------------  -----  \n",
      " 0   PassengerId  891 non-null    int64  \n",
      " 1   Survived     891 non-null    int64  \n",
      " 2   Pclass       891 non-null    int64  \n",
      " 3   Name         891 non-null    object \n",
      " 4   Sex          891 non-null    object \n",
      " 5   Age          714 non-null    float64\n",
      " 6   SibSp        891 non-null    int64  \n",
      " 7   Parch        891 non-null    int64  \n",
      " 8   Ticket       891 non-null    object \n",
      " 9   Fare         891 non-null    float64\n",
      " 10  Cabin        204 non-null    object \n",
      " 11  Embarked     889 non-null    object \n",
      "dtypes: float64(2), int64(5), object(5)\n",
      "memory usage: 83.7+ KB\n"
     ]
    }
   ],
   "source": [
    "data.info()"
   ]
  },
  {
   "cell_type": "markdown",
   "id": "c68db79a",
   "metadata": {},
   "source": [
    "# Task 1 : Perform Data Cleaning\n",
    "Clean a dataset by removing missing values\n",
    "and outliers."
   ]
  },
  {
   "cell_type": "code",
   "execution_count": 5,
   "id": "5ef90666",
   "metadata": {},
   "outputs": [
    {
     "data": {
      "text/plain": [
       "PassengerId      0\n",
       "Survived         0\n",
       "Pclass           0\n",
       "Name             0\n",
       "Sex              0\n",
       "Age            177\n",
       "SibSp            0\n",
       "Parch            0\n",
       "Ticket           0\n",
       "Fare             0\n",
       "Cabin          687\n",
       "Embarked         2\n",
       "dtype: int64"
      ]
     },
     "execution_count": 5,
     "metadata": {},
     "output_type": "execute_result"
    }
   ],
   "source": [
    "data.isnull().sum()"
   ]
  },
  {
   "cell_type": "code",
   "execution_count": 6,
   "id": "146f5a96",
   "metadata": {},
   "outputs": [
    {
     "data": {
      "text/html": [
       "<div>\n",
       "<style scoped>\n",
       "    .dataframe tbody tr th:only-of-type {\n",
       "        vertical-align: middle;\n",
       "    }\n",
       "\n",
       "    .dataframe tbody tr th {\n",
       "        vertical-align: top;\n",
       "    }\n",
       "\n",
       "    .dataframe thead th {\n",
       "        text-align: right;\n",
       "    }\n",
       "</style>\n",
       "<table border=\"1\" class=\"dataframe\">\n",
       "  <thead>\n",
       "    <tr style=\"text-align: right;\">\n",
       "      <th></th>\n",
       "      <th>count</th>\n",
       "      <th>mean</th>\n",
       "      <th>std</th>\n",
       "      <th>min</th>\n",
       "      <th>25%</th>\n",
       "      <th>50%</th>\n",
       "      <th>75%</th>\n",
       "      <th>max</th>\n",
       "    </tr>\n",
       "  </thead>\n",
       "  <tbody>\n",
       "    <tr>\n",
       "      <th>PassengerId</th>\n",
       "      <td>891.0</td>\n",
       "      <td>446.000000</td>\n",
       "      <td>257.353842</td>\n",
       "      <td>1.00</td>\n",
       "      <td>223.5000</td>\n",
       "      <td>446.0000</td>\n",
       "      <td>668.5</td>\n",
       "      <td>891.0000</td>\n",
       "    </tr>\n",
       "    <tr>\n",
       "      <th>Survived</th>\n",
       "      <td>891.0</td>\n",
       "      <td>0.383838</td>\n",
       "      <td>0.486592</td>\n",
       "      <td>0.00</td>\n",
       "      <td>0.0000</td>\n",
       "      <td>0.0000</td>\n",
       "      <td>1.0</td>\n",
       "      <td>1.0000</td>\n",
       "    </tr>\n",
       "    <tr>\n",
       "      <th>Pclass</th>\n",
       "      <td>891.0</td>\n",
       "      <td>2.308642</td>\n",
       "      <td>0.836071</td>\n",
       "      <td>1.00</td>\n",
       "      <td>2.0000</td>\n",
       "      <td>3.0000</td>\n",
       "      <td>3.0</td>\n",
       "      <td>3.0000</td>\n",
       "    </tr>\n",
       "    <tr>\n",
       "      <th>Age</th>\n",
       "      <td>714.0</td>\n",
       "      <td>29.699118</td>\n",
       "      <td>14.526497</td>\n",
       "      <td>0.42</td>\n",
       "      <td>20.1250</td>\n",
       "      <td>28.0000</td>\n",
       "      <td>38.0</td>\n",
       "      <td>80.0000</td>\n",
       "    </tr>\n",
       "    <tr>\n",
       "      <th>SibSp</th>\n",
       "      <td>891.0</td>\n",
       "      <td>0.523008</td>\n",
       "      <td>1.102743</td>\n",
       "      <td>0.00</td>\n",
       "      <td>0.0000</td>\n",
       "      <td>0.0000</td>\n",
       "      <td>1.0</td>\n",
       "      <td>8.0000</td>\n",
       "    </tr>\n",
       "    <tr>\n",
       "      <th>Parch</th>\n",
       "      <td>891.0</td>\n",
       "      <td>0.381594</td>\n",
       "      <td>0.806057</td>\n",
       "      <td>0.00</td>\n",
       "      <td>0.0000</td>\n",
       "      <td>0.0000</td>\n",
       "      <td>0.0</td>\n",
       "      <td>6.0000</td>\n",
       "    </tr>\n",
       "    <tr>\n",
       "      <th>Fare</th>\n",
       "      <td>891.0</td>\n",
       "      <td>32.204208</td>\n",
       "      <td>49.693429</td>\n",
       "      <td>0.00</td>\n",
       "      <td>7.9104</td>\n",
       "      <td>14.4542</td>\n",
       "      <td>31.0</td>\n",
       "      <td>512.3292</td>\n",
       "    </tr>\n",
       "  </tbody>\n",
       "</table>\n",
       "</div>"
      ],
      "text/plain": [
       "             count        mean         std   min       25%       50%    75%  \\\n",
       "PassengerId  891.0  446.000000  257.353842  1.00  223.5000  446.0000  668.5   \n",
       "Survived     891.0    0.383838    0.486592  0.00    0.0000    0.0000    1.0   \n",
       "Pclass       891.0    2.308642    0.836071  1.00    2.0000    3.0000    3.0   \n",
       "Age          714.0   29.699118   14.526497  0.42   20.1250   28.0000   38.0   \n",
       "SibSp        891.0    0.523008    1.102743  0.00    0.0000    0.0000    1.0   \n",
       "Parch        891.0    0.381594    0.806057  0.00    0.0000    0.0000    0.0   \n",
       "Fare         891.0   32.204208   49.693429  0.00    7.9104   14.4542   31.0   \n",
       "\n",
       "                  max  \n",
       "PassengerId  891.0000  \n",
       "Survived       1.0000  \n",
       "Pclass         3.0000  \n",
       "Age           80.0000  \n",
       "SibSp          8.0000  \n",
       "Parch          6.0000  \n",
       "Fare         512.3292  "
      ]
     },
     "execution_count": 6,
     "metadata": {},
     "output_type": "execute_result"
    }
   ],
   "source": [
    "data.describe().T"
   ]
  },
  {
   "cell_type": "code",
   "execution_count": 7,
   "id": "428b50b1",
   "metadata": {},
   "outputs": [
    {
     "data": {
      "text/html": [
       "<div>\n",
       "<style scoped>\n",
       "    .dataframe tbody tr th:only-of-type {\n",
       "        vertical-align: middle;\n",
       "    }\n",
       "\n",
       "    .dataframe tbody tr th {\n",
       "        vertical-align: top;\n",
       "    }\n",
       "\n",
       "    .dataframe thead th {\n",
       "        text-align: right;\n",
       "    }\n",
       "</style>\n",
       "<table border=\"1\" class=\"dataframe\">\n",
       "  <thead>\n",
       "    <tr style=\"text-align: right;\">\n",
       "      <th></th>\n",
       "      <th>count</th>\n",
       "      <th>mean</th>\n",
       "      <th>std</th>\n",
       "      <th>min</th>\n",
       "      <th>25%</th>\n",
       "      <th>50%</th>\n",
       "      <th>75%</th>\n",
       "      <th>max</th>\n",
       "    </tr>\n",
       "  </thead>\n",
       "  <tbody>\n",
       "    <tr>\n",
       "      <th>Age</th>\n",
       "      <td>714.0</td>\n",
       "      <td>29.699118</td>\n",
       "      <td>14.526497</td>\n",
       "      <td>0.42</td>\n",
       "      <td>20.125</td>\n",
       "      <td>28.0</td>\n",
       "      <td>38.0</td>\n",
       "      <td>80.0</td>\n",
       "    </tr>\n",
       "  </tbody>\n",
       "</table>\n",
       "</div>"
      ],
      "text/plain": [
       "     count       mean        std   min     25%   50%   75%   max\n",
       "Age  714.0  29.699118  14.526497  0.42  20.125  28.0  38.0  80.0"
      ]
     },
     "execution_count": 7,
     "metadata": {},
     "output_type": "execute_result"
    }
   ],
   "source": [
    "data[['Age']].describe().T # Age Column."
   ]
  },
  {
   "cell_type": "code",
   "execution_count": 8,
   "id": "65aa9d88",
   "metadata": {},
   "outputs": [
    {
     "data": {
      "text/plain": [
       "array([nan, 'C85', 'C123', 'E46', 'G6', 'C103', 'D56', 'A6',\n",
       "       'C23 C25 C27', 'B78', 'D33', 'B30', 'C52', 'B28', 'C83', 'F33',\n",
       "       'F G73', 'E31', 'A5', 'D10 D12', 'D26', 'C110', 'B58 B60', 'E101',\n",
       "       'F E69', 'D47', 'B86', 'F2', 'C2', 'E33', 'B19', 'A7', 'C49', 'F4',\n",
       "       'A32', 'B4', 'B80', 'A31', 'D36', 'D15', 'C93', 'C78', 'D35',\n",
       "       'C87', 'B77', 'E67', 'B94', 'C125', 'C99', 'C118', 'D7', 'A19',\n",
       "       'B49', 'D', 'C22 C26', 'C106', 'C65', 'E36', 'C54',\n",
       "       'B57 B59 B63 B66', 'C7', 'E34', 'C32', 'B18', 'C124', 'C91', 'E40',\n",
       "       'T', 'C128', 'D37', 'B35', 'E50', 'C82', 'B96 B98', 'E10', 'E44',\n",
       "       'A34', 'C104', 'C111', 'C92', 'E38', 'D21', 'E12', 'E63', 'A14',\n",
       "       'B37', 'C30', 'D20', 'B79', 'E25', 'D46', 'B73', 'C95', 'B38',\n",
       "       'B39', 'B22', 'C86', 'C70', 'A16', 'C101', 'C68', 'A10', 'E68',\n",
       "       'B41', 'A20', 'D19', 'D50', 'D9', 'A23', 'B50', 'A26', 'D48',\n",
       "       'E58', 'C126', 'B71', 'B51 B53 B55', 'D49', 'B5', 'B20', 'F G63',\n",
       "       'C62 C64', 'E24', 'C90', 'C45', 'E8', 'B101', 'D45', 'C46', 'D30',\n",
       "       'E121', 'D11', 'E77', 'F38', 'B3', 'D6', 'B82 B84', 'D17', 'A36',\n",
       "       'B102', 'B69', 'E49', 'C47', 'D28', 'E17', 'A24', 'C50', 'B42',\n",
       "       'C148'], dtype=object)"
      ]
     },
     "execution_count": 8,
     "metadata": {},
     "output_type": "execute_result"
    }
   ],
   "source": [
    "unique_values_of_cabin = data['Cabin'].unique()\n",
    "unique_values_of_cabin"
   ]
  },
  {
   "cell_type": "code",
   "execution_count": 9,
   "id": "3ee3fb8e",
   "metadata": {},
   "outputs": [],
   "source": [
    "mean_of_age = data['Age'].mean()\n",
    "mode_of_cabin = data['Cabin'].mode()\n",
    "mode_of_embarked = data['Embarked'].mode()\n",
    "\n",
    "not_null_df = data.copy()\n",
    "not_null_df['Age'] = not_null_df['Age'].fillna(mean_of_age )\n",
    "not_null_df['Cabin'] = not_null_df['Cabin'].fillna(mode_of_cabin[0])  \n",
    "not_null_df['Embarked'] = not_null_df['Embarked'].fillna(mode_of_embarked[0])"
   ]
  },
  {
   "cell_type": "code",
   "execution_count": 10,
   "id": "3a35b0a6",
   "metadata": {
    "scrolled": true
   },
   "outputs": [
    {
     "data": {
      "text/plain": [
       "PassengerId    0\n",
       "Survived       0\n",
       "Pclass         0\n",
       "Name           0\n",
       "Sex            0\n",
       "Age            0\n",
       "SibSp          0\n",
       "Parch          0\n",
       "Ticket         0\n",
       "Fare           0\n",
       "Cabin          0\n",
       "Embarked       0\n",
       "dtype: int64"
      ]
     },
     "execution_count": 10,
     "metadata": {},
     "output_type": "execute_result"
    }
   ],
   "source": [
    "not_null_df.isnull().sum()"
   ]
  },
  {
   "cell_type": "code",
   "execution_count": 11,
   "id": "1e622c78",
   "metadata": {},
   "outputs": [],
   "source": [
    "excel_data = not_null_df.to_excel(\"cleaned_titanic_dataset.xlsx\")"
   ]
  },
  {
   "cell_type": "code",
   "execution_count": 12,
   "id": "dfd6238c",
   "metadata": {},
   "outputs": [],
   "source": [
    "clean_data = not_null_df.copy()"
   ]
  },
  {
   "cell_type": "markdown",
   "id": "171837d3",
   "metadata": {},
   "source": [
    "\n",
    "# Task 2 : Calculate summary statistics\n",
    "Calculate summary statistics (mean, median,\n",
    "mode, standard deviation) for a dataset\n"
   ]
  },
  {
   "cell_type": "code",
   "execution_count": 13,
   "id": "1a570482",
   "metadata": {},
   "outputs": [
    {
     "name": "stdout",
     "output_type": "stream",
     "text": [
      "\n",
      "\n",
      " PassengerId\n",
      "________________________________________\n",
      "Mean: 446.0\n",
      "STD: 257.20938292890224\n",
      "Median 446.0\n",
      "mode 1\n",
      "Min: 1\n",
      "Max: 891\n",
      "\n",
      "\n",
      " Survived\n",
      "________________________________________\n",
      "Mean: 0.3838383838383838\n",
      "STD: 0.48631931786710086\n",
      "Median 0.0\n",
      "mode 0\n",
      "Min: 0\n",
      "Max: 1\n",
      "\n",
      "\n",
      " Pclass\n",
      "________________________________________\n",
      "Mean: 2.308641975308642\n",
      "STD: 0.8356019334795189\n",
      "Median 3.0\n",
      "mode 3\n",
      "Min: 1\n",
      "Max: 3\n",
      "\n",
      "\n",
      " Age\n",
      "________________________________________\n",
      "Mean: 29.699117647058763\n",
      "STD: 12.994716872789033\n",
      "Median 29.69911764705882\n",
      "mode 29.69911764705882\n",
      "Min: 0.42\n",
      "Max: 80.0\n",
      "\n",
      "\n",
      " SibSp\n",
      "________________________________________\n",
      "Mean: 0.5230078563411896\n",
      "STD: 1.1021244350892836\n",
      "Median 0.0\n",
      "mode 0\n",
      "Min: 0\n",
      "Max: 8\n",
      "\n",
      "\n",
      " Parch\n",
      "________________________________________\n",
      "Mean: 0.38159371492704824\n",
      "STD: 0.8056047612452284\n",
      "Median 0.0\n",
      "mode 0\n",
      "Min: 0\n",
      "Max: 6\n",
      "\n",
      "\n",
      " Fare\n",
      "________________________________________\n",
      "Mean: 32.2042079685746\n",
      "STD: 49.66553444477411\n",
      "Median 14.4542\n",
      "mode 8.05\n",
      "Min: 0.0\n",
      "Max: 512.3292\n"
     ]
    }
   ],
   "source": [
    "\n",
    "columns = list(clean_data[['PassengerId', 'Survived', 'Pclass', 'Age', 'SibSp', 'Parch', 'Fare']])\n",
    "\n",
    "def describe_data(data, col):\n",
    "    print ('\\n\\n', col)\n",
    "    print ('_' * 40)\n",
    "    print ('Mean:', np.mean(data))\n",
    "    print ('STD:', np.std(data))      \n",
    "    print ('Median', np.median(data))\n",
    "    print ('mode', statistics.mode(data))\n",
    "    print ('Min:', np.min(data))   \n",
    "    print ('Max:', np.max(data))\n",
    "for c in columns:\n",
    "    describe_data(clean_data[c], c)"
   ]
  },
  {
   "cell_type": "markdown",
   "id": "ad4b54c5",
   "metadata": {},
   "source": [
    "\n",
    "# Task 3 : Visualization using Histogram\n",
    "Create a histogram or bar chart to visualize\n",
    "the distribution of data in a dataset\n"
   ]
  },
  {
   "cell_type": "code",
   "execution_count": 14,
   "id": "6c0cee5a",
   "metadata": {},
   "outputs": [],
   "source": [
    "# Set plot style\n",
    "sns.set(style='ticks', color_codes=True)"
   ]
  },
  {
   "cell_type": "markdown",
   "id": "9c48870f",
   "metadata": {},
   "source": [
    "Age and Survival\n",
    " "
   ]
  },
  {
   "cell_type": "code",
   "execution_count": null,
   "id": "ff472ea0",
   "metadata": {},
   "outputs": [],
   "source": []
  },
  {
   "cell_type": "code",
   "execution_count": 15,
   "id": "aea06704",
   "metadata": {},
   "outputs": [
    {
     "data": {
      "text/plain": [
       "<seaborn.axisgrid.FacetGrid at 0x2cd66485610>"
      ]
     },
     "execution_count": 15,
     "metadata": {},
     "output_type": "execute_result"
    },
    {
     "data": {
      "image/png": "[encoded data removed]",
      "text/plain": [
       "<Figure size 300x300 with 1 Axes>"
      ]
     },
     "metadata": {},
     "output_type": "display_data"
    }
   ],
   "source": [
    "\n",
    "# Plot passenger age distribution\n",
    "age_hist = sns.FacetGrid(clean_data)\n",
    "age_hist.map(plt.hist, 'Age', bins=20)"
   ]
  },
  {
   "cell_type": "markdown",
   "id": "cf92a9b3",
   "metadata": {},
   "source": [
    "We can see that there were about 40 kids aged 5 years or younger in the sample. The majority of passengers were between the ages of 20 - 35."
   ]
  },
  {
   "cell_type": "code",
   "execution_count": 16,
   "id": "761df69b",
   "metadata": {},
   "outputs": [
    {
     "data": {
      "text/plain": [
       "<seaborn.axisgrid.FacetGrid at 0x2cd66c015e0>"
      ]
     },
     "execution_count": 16,
     "metadata": {},
     "output_type": "execute_result"
    },
    {
     "data": {
      "image/png": "[encoded data removed]",
      "text/plain": [
       "<Figure size 600x300 with 2 Axes>"
      ]
     },
     "metadata": {},
     "output_type": "display_data"
    }
   ],
   "source": [
    "# Plot histogram of survival by age\n",
    "age_hist = sns.FacetGrid(clean_data, col='Survived', hue='Survived')\n",
    "age_hist.map(plt.hist, 'Age', bins=15)"
   ]
  },
  {
   "cell_type": "markdown",
   "id": "fdea1c9b",
   "metadata": {},
   "source": [
    "The above shows the overall death and survival rates broken down by age. We can see that children under the age of 5 had a high survival rate. Additionally, we can see the vast majority of passengers that died were between 20-35 years old. Consdiering this is the expectation for the majority age range on board, this isn't much of a surprise. "
   ]
  },
  {
   "cell_type": "code",
   "execution_count": 17,
   "id": "0b0e8aa6",
   "metadata": {},
   "outputs": [
    {
     "data": {
      "text/plain": [
       "<seaborn.axisgrid.FacetGrid at 0x2cd66c4fb20>"
      ]
     },
     "execution_count": 17,
     "metadata": {},
     "output_type": "execute_result"
    },
    {
     "data": {
      "image/png": "[encoded data removed]",
      "text/plain": [
       "<Figure size 600x600 with 4 Axes>"
      ]
     },
     "metadata": {},
     "output_type": "display_data"
    }
   ],
   "source": [
    "# Plot histogram by survival, sex, and age\n",
    "age_sex_hist = sns.FacetGrid(clean_data, col='Survived', row='Sex', hue='Survived')\n",
    "age_sex_hist.map(plt.hist, 'Age', bins=20)"
   ]
  },
  {
   "cell_type": "markdown",
   "id": "26a6ee35",
   "metadata": {},
   "source": [
    "This breakdown gives us an extremely interesting and informative view into the answer about survivability for women and children. If we look at the data for children 5 and under, we can see that sex didn't have much of an impact on survival. By in large, most of the children in this sample survived, including the males.\n",
    "\n",
    "Another interesting insight we can see is just how many of the males on board died (aside from male children under 5). Men were more likely to have died than to have survived. When we make the same comparison for females, you can see that females in almost every age range were more likely to survive than to have died."
   ]
  },
  {
   "cell_type": "code",
   "execution_count": 19,
   "id": "5fe598ec",
   "metadata": {},
   "outputs": [
    {
     "data": {
      "text/plain": [
       "[Text(0, 0.5, '% Survivors'), Text(0.5, 0, 'Passenger Class')]"
      ]
     },
     "execution_count": 19,
     "metadata": {},
     "output_type": "execute_result"
    },
    {
     "data": {
      "image/png": "[encoded data removed]",
      "text/plain": [
       "<Figure size 640x480 with 1 Axes>"
      ]
     },
     "metadata": {},
     "output_type": "display_data"
    }
   ],
   "source": [
    "#Create Passenger column to plot total passengers\n",
    "clean_data['Passenger'] = 'Passenger'\n",
    "# Create Class column with string values for class\n",
    "clean_data['Class'] = clean_data['Pclass'].map( {1: 'Upper', 2: 'Middle', 3: 'Lower'} )\n",
    "\n",
    "# Create PointPlot for Passengers by Class\n",
    "bp = sns.barplot(x='Passenger', y='Survived', hue='Class', data=clean_data, hue_order=['Lower', 'Middle', 'Upper'])\n",
    "bp.set(ylabel='% Survivors', xlabel='Passenger Class')"
   ]
  },
  {
   "cell_type": "markdown",
   "id": "575397ea",
   "metadata": {},
   "source": [
    "This plot shows the average survival and confidence interval of passengers by class. Looking at the breakdown of average survival rates by class shows a stark correlation between class and rate of survival. Lower class passenger survival ranged somewhere between 20 - 30%, while upper class survival ranged somewhere between 55 - 70%, with middle class ranging somewhere between 35 - 55%."
   ]
  },
  {
   "cell_type": "code",
   "execution_count": 20,
   "id": "debf2a5c",
   "metadata": {},
   "outputs": [
    {
     "data": {
      "text/plain": [
       "[Text(0, 0.5, '% Survivors'), Text(0.5, 0, 'Passenger Sex by Class')]"
      ]
     },
     "execution_count": 20,
     "metadata": {},
     "output_type": "execute_result"
    },
    {
     "data": {
      "image/png": "[encoded data removed]",
      "text/plain": [
       "<Figure size 640x480 with 1 Axes>"
      ]
     },
     "metadata": {},
     "output_type": "display_data"
    }
   ],
   "source": [
    "# Create PointPlot for Passengers by Class and Sex\n",
    "bps = sns.barplot(x='Sex', y='Survived', hue='Class', data=clean_data, hue_order=['Lower', 'Middle', 'Upper'])\n",
    "bps.set(ylabel='% Survivors', xlabel='Passenger Sex by Class')"
   ]
  },
  {
   "cell_type": "markdown",
   "id": "24dead24",
   "metadata": {},
   "source": [
    "We can see that middle class female passengers had almost the same rate of survival as upperclass females, but middle class men had about the same rate of survival as lower class men, which further illustrates the greater liklihood of women to have survived. Overall we can observe that upperclass passengers did indeed have a higher chance of survival than lower class passengers regardless of sex."
   ]
  },
  {
   "cell_type": "markdown",
   "id": "14fa439f",
   "metadata": {},
   "source": [
    "## Summary\n",
    "Here is a quick summary of the answers to the questions posed as gleaned in this analysis:\n",
    "\n",
    "* **What porportion of passengers in the sample survived?**\n",
    " * 38% of total passengers in the sample survived\n",
    "* **Did  woman and children have a higher survival rate?**\n",
    " * The female survival rate in this sample was 55.3% higher than the survival rate for males. \n",
    "  * Women had a much higher rate of survival than men.\n",
    " * Children under the age of 5, regardless of sex, had a much higher rate of survival\n",
    "* **Did upperclass passengers in the sample have an advantage that translated into a higher survival rate than lower class passengers?**\n",
    " * Class has a strong correlation with survival, with upperclass passengers having a much larger rate of survival than lower class passengers, regardless of sex and age.\n",
    " * Upperclass passengers were more likely to survive than lower class passengers."
   ]
  },
  {
   "cell_type": "code",
   "execution_count": null,
   "id": "6a5a1f69",
   "metadata": {},
   "outputs": [],
   "source": []
  },
  {
   "cell_type": "code",
   "execution_count": null,
   "id": "aa252734",
   "metadata": {},
   "outputs": [],
   "source": [
    "\n",
    "    "
   ]
  },
  {
   "cell_type": "code",
   "execution_count": null,
   "id": "1ed13ccc",
   "metadata": {},
   "outputs": [],
   "source": []
  },
  {
   "cell_type": "code",
   "execution_count": null,
   "id": "7cdc6560",
   "metadata": {},
   "outputs": [],
   "source": [
    "    "
   ]
  },
  {
   "cell_type": "code",
   "execution_count": null,
   "id": "de32456a",
   "metadata": {},
   "outputs": [],
   "source": []
  },
  {
   "cell_type": "code",
   "execution_count": null,
   "id": "2ed35247",
   "metadata": {},
   "outputs": [],
   "source": []
  },
  {
   "cell_type": "code",
   "execution_count": null,
   "id": "d5e9d46c",
   "metadata": {},
   "outputs": [],
   "source": []
  },
  {
   "cell_type": "code",
   "execution_count": null,
   "id": "18831e8a",
   "metadata": {},
   "outputs": [],
   "source": []
  },
  {
   "cell_type": "code",
   "execution_count": null,
   "id": "baa0d410",
   "metadata": {},
   "outputs": [],
   "source": []
  }
 ],
 "metadata": {
  "kernelspec": {
   "display_name": "Python 3 (ipykernel)",
   "language": "python",
   "name": "python3"
  },
  "language_info": {
   "codemirror_mode": {
    "name": "ipython",
    "version": 3
   },
   "file_extension": ".py",
   "mimetype": "text/x-python",
   "name": "python",
   "nbconvert_exporter": "python",
   "pygments_lexer": "ipython3",
   "version": "3.9.13"
  }
 },
 "nbformat": 4,
 "nbformat_minor": 5
}
